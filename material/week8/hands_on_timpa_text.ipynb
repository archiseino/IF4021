{
 "cells": [
  {
   "cell_type": "code",
   "execution_count": 3,
   "metadata": {},
   "outputs": [
    {
     "data": {
      "text/plain": [
       "True"
      ]
     },
     "execution_count": 3,
     "metadata": {},
     "output_type": "execute_result"
    }
   ],
   "source": [
    "import cv2\n",
    "import os\n",
    "\n",
    "# Load the image\n",
    "image_path = os.path.join(os.getcwd(), 'attachment', 'stress_person.jpeg')  \n",
    "image = cv2.imread(image_path)\n",
    "\n",
    "# Set the text you want to add\n",
    "top_text = \"UTS\"\n",
    "bottom_text = \"Belum Belajar\"\n",
    "\n",
    "# Define font, scale, color, and thickness\n",
    "font = cv2.FONT_HERSHEY_PLAIN\n",
    "font_scale = 1\n",
    "color = (0, 0, 0) \n",
    "thickness = 2\n",
    "\n",
    "# Get the size of the text\n",
    "(top_text_width, top_text_height), baseline = cv2.getTextSize(top_text, font, font_scale, thickness)\n",
    "(bottom_text_width, bottom_text_height), baseline = cv2.getTextSize(bottom_text, font, font_scale, thickness)\n",
    "\n",
    "# Set the text position\n",
    "top_text_x = (image.shape[1] - top_text_width) // 2\n",
    "top_text_y = top_text_height + 10  \n",
    "bottom_text_x = (image.shape[1] - bottom_text_width) // 2\n",
    "bottom_text_y = image.shape[0] - 10  \n",
    "\n",
    "# Put the text on the image\n",
    "cv2.putText(image, top_text, (top_text_x, top_text_y), font, font_scale, color, thickness, cv2.LINE_AA)\n",
    "cv2.putText(image, bottom_text, (bottom_text_x, bottom_text_y), font, font_scale, color, thickness, cv2.LINE_AA)\n",
    "\n",
    "# Save the output image\n",
    "output_path = 'results/meme_image.png'  \n",
    "cv2.imwrite(output_path, image)\n"
   ]
  }
 ],
 "metadata": {
  "kernelspec": {
   "display_name": "py310_multimedia",
   "language": "python",
   "name": "python3"
  },
  "language_info": {
   "codemirror_mode": {
    "name": "ipython",
    "version": 3
   },
   "file_extension": ".py",
   "mimetype": "text/x-python",
   "name": "python",
   "nbconvert_exporter": "python",
   "pygments_lexer": "ipython3",
   "version": "3.10.14"
  }
 },
 "nbformat": 4,
 "nbformat_minor": 2
}
